{
 "cells": [
  {
   "cell_type": "code",
   "execution_count": 1,
   "metadata": {},
   "outputs": [],
   "source": [
    "%load_ext autoreload\n",
    "%autoreload 2"
   ]
  },
  {
   "cell_type": "code",
   "execution_count": 1,
   "metadata": {},
   "outputs": [],
   "source": [
    "from turbinedaq.daqtasks import AftAcsDaqThread\n",
    "from acspy import acsc\n",
    "\n",
    "hc = acsc.open_comm_ethernet_tcp()"
   ]
  },
  {
   "cell_type": "code",
   "execution_count": null,
   "metadata": {},
   "outputs": [],
   "source": [
    "thread = AftAcsDaqThread(acs_hc=hc, sample_rate=500, makeprg=True)"
   ]
  },
  {
   "cell_type": "code",
   "execution_count": null,
   "metadata": {},
   "outputs": [],
   "source": [
    "thread.start()"
   ]
  },
  {
   "cell_type": "code",
   "execution_count": null,
   "metadata": {},
   "outputs": [],
   "source": [
    "import pandas as pd\n",
    "\n",
    "pd.DataFrame(thread.data).load_cell_ch1.plot()"
   ]
  },
  {
   "cell_type": "code",
   "execution_count": null,
   "metadata": {},
   "outputs": [],
   "source": [
    "thread.stop()"
   ]
  },
  {
   "cell_type": "code",
   "execution_count": null,
   "metadata": {},
   "outputs": [],
   "source": [
    "from turbinedaq.daqtasks import AftNiDaqThread\n",
    "\n",
    "thread = AftNiDaqThread(usetrigger=True)"
   ]
  },
  {
   "cell_type": "code",
   "execution_count": null,
   "metadata": {},
   "outputs": [],
   "source": [
    "thread.start()"
   ]
  },
  {
   "cell_type": "code",
   "execution_count": null,
   "metadata": {},
   "outputs": [],
   "source": [
    "thread.stopdaq()"
   ]
  },
  {
   "cell_type": "code",
   "execution_count": null,
   "metadata": {},
   "outputs": [],
   "source": [
    "pd.DataFrame(thread.data)"
   ]
  },
  {
   "cell_type": "code",
   "execution_count": 2,
   "metadata": {},
   "outputs": [],
   "source": [
    "from turbinedaq.runtypes import TurbineTow\n",
    "\n",
    "tow = TurbineTow(\n",
    "    acs_ntm_hcomm=hc,\n",
    "    U=0.1,\n",
    "    tsr=0.1,\n",
    "    y_R=None,\n",
    "    z_H=None,\n",
    "    turbine_properties=dict(kind=\"AFT\", diameter=1.0, radius=0.5, height=1.0),\n",
    "    nidaq=True,\n",
    "    vectrino=False,\n",
    "    fbg=False,\n",
    "    odisi=False,\n",
    "    settling=False,\n",
    ")"
   ]
  },
  {
   "cell_type": "code",
   "execution_count": 3,
   "metadata": {},
   "outputs": [
    {
     "name": "stderr",
     "output_type": "stream",
     "text": [
      "c:\\Users\\Wave\\dev\\turbinedaq\\turbinedaq\\daqtasks.py:414: UserWarning: Failed to read 'collect_data': 1064: Undefined global variable\n",
      "  warnings.warn(f\"Failed to read 'collect_data': {e}\")\n"
     ]
    }
   ],
   "source": [
    "tow.run()"
   ]
  }
 ],
 "metadata": {
  "kernelspec": {
   "display_name": "Python 3",
   "language": "python",
   "name": "python3"
  },
  "language_info": {
   "codemirror_mode": {
    "name": "ipython",
    "version": 3
   },
   "file_extension": ".py",
   "mimetype": "text/x-python",
   "name": "python",
   "nbconvert_exporter": "python",
   "pygments_lexer": "ipython3",
   "version": "3.12.3"
  }
 },
 "nbformat": 4,
 "nbformat_minor": 2
}
