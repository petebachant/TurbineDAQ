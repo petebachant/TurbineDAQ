{
 "cells": [
  {
   "cell_type": "code",
   "execution_count": null,
   "metadata": {},
   "outputs": [],
   "source": [
    "%load_ext autoreload\n",
    "%autoreload 2"
   ]
  },
  {
   "cell_type": "code",
   "execution_count": 1,
   "metadata": {},
   "outputs": [],
   "source": [
    "from turbinedaq.daqtasks import AftAcsDaqThread\n",
    "from acspy import acsc\n",
    "\n",
    "hc = acsc.open_comm_ethernet_tcp()"
   ]
  },
  {
   "cell_type": "code",
   "execution_count": null,
   "metadata": {},
   "outputs": [],
   "source": [
    "thread = AftAcsDaqThread(acs_hc=hc, sample_rate=500, makeprg=True)"
   ]
  },
  {
   "cell_type": "code",
   "execution_count": null,
   "metadata": {},
   "outputs": [],
   "source": [
    "thread.start()"
   ]
  },
  {
   "cell_type": "code",
   "execution_count": null,
   "metadata": {},
   "outputs": [],
   "source": [
    "import pandas as pd\n",
    "\n",
    "pd.DataFrame(thread.data).load_cell_ch1.plot()"
   ]
  },
  {
   "cell_type": "code",
   "execution_count": null,
   "metadata": {},
   "outputs": [],
   "source": [
    "thread.stop()"
   ]
  },
  {
   "cell_type": "code",
   "execution_count": null,
   "metadata": {},
   "outputs": [],
   "source": [
    "from turbinedaq.daqtasks import AftNiDaqThread\n",
    "\n",
    "thread = AftNiDaqThread(usetrigger=True)"
   ]
  },
  {
   "cell_type": "code",
   "execution_count": null,
   "metadata": {},
   "outputs": [],
   "source": [
    "thread.metadata"
   ]
  },
  {
   "cell_type": "code",
   "execution_count": null,
   "metadata": {},
   "outputs": [],
   "source": [
    "thread.start()"
   ]
  },
  {
   "cell_type": "code",
   "execution_count": null,
   "metadata": {},
   "outputs": [],
   "source": [
    "thread.stopdaq()"
   ]
  },
  {
   "cell_type": "code",
   "execution_count": null,
   "metadata": {},
   "outputs": [],
   "source": [
    "import pandas as pd\n",
    "\n",
    "pd.DataFrame(thread.data)"
   ]
  },
  {
   "cell_type": "code",
   "execution_count": 2,
   "metadata": {},
   "outputs": [],
   "source": [
    "from turbinedaq.runtypes import TurbineTow\n",
    "\n",
    "tow = TurbineTow(\n",
    "    acs_ntm_hcomm=hc,\n",
    "    U=0.4,\n",
    "    tsr=4,\n",
    "    y_R=None,\n",
    "    z_H=None,\n",
    "    turbine_properties=dict(kind=\"AFT\", diameter=1.0, radius=0.5, height=1.0),\n",
    "    nidaq=True,\n",
    "    vectrino=False,\n",
    "    fbg=False,\n",
    "    odisi=False,\n",
    "    settling=False,\n",
    ")"
   ]
  },
  {
   "cell_type": "code",
   "execution_count": null,
   "metadata": {},
   "outputs": [],
   "source": [
    "acsc.getOutput(hc, 1, 16)"
   ]
  },
  {
   "cell_type": "code",
   "execution_count": null,
   "metadata": {},
   "outputs": [],
   "source": [
    "acsc.setOutput(hc, 1, 16, 1)"
   ]
  },
  {
   "cell_type": "code",
   "execution_count": null,
   "metadata": {},
   "outputs": [],
   "source": [
    "import time\n",
    "\n",
    "acsc.setOutput(hc, 1, 16, 0)\n",
    "\n",
    "tow.daqthread.start()\n",
    "time.sleep(4)\n",
    "acsc.setOutput(hc, 1, 16, 1)"
   ]
  },
  {
   "cell_type": "code",
   "execution_count": null,
   "metadata": {},
   "outputs": [],
   "source": [
    "tow.daqthread.stopdaq()"
   ]
  },
  {
   "cell_type": "code",
   "execution_count": null,
   "metadata": {},
   "outputs": [],
   "source": [
    "tow.daqthread"
   ]
  },
  {
   "cell_type": "code",
   "execution_count": 3,
   "metadata": {},
   "outputs": [
    {
     "name": "stderr",
     "output_type": "stream",
     "text": [
      "c:\\Users\\Wave\\dev\\turbinedaq\\turbinedaq\\daqtasks.py:414: UserWarning: Failed to read 'collect_data': 1064: Undefined global variable\n",
      "  warnings.warn(f\"Failed to read 'collect_data': {e}\")\n"
     ]
    }
   ],
   "source": [
    "tow.start()"
   ]
  },
  {
   "cell_type": "code",
   "execution_count": 5,
   "metadata": {},
   "outputs": [
    {
     "data": {
      "text/html": [
       "<div>\n",
       "<style scoped>\n",
       "    .dataframe tbody tr th:only-of-type {\n",
       "        vertical-align: middle;\n",
       "    }\n",
       "\n",
       "    .dataframe tbody tr th {\n",
       "        vertical-align: top;\n",
       "    }\n",
       "\n",
       "    .dataframe thead th {\n",
       "        text-align: right;\n",
       "    }\n",
       "</style>\n",
       "<table border=\"1\" class=\"dataframe\">\n",
       "  <thead>\n",
       "    <tr style=\"text-align: right;\">\n",
       "      <th></th>\n",
       "      <th>resistor_temp</th>\n",
       "      <th>yaskawa_temp</th>\n",
       "      <th>fore_temp</th>\n",
       "      <th>aft_temp</th>\n",
       "      <th>time</th>\n",
       "      <th>carriage_pos</th>\n",
       "    </tr>\n",
       "  </thead>\n",
       "  <tbody>\n",
       "    <tr>\n",
       "      <th>0</th>\n",
       "      <td>2423.477521</td>\n",
       "      <td>2421.699101</td>\n",
       "      <td>-408.980361</td>\n",
       "      <td>-408.980361</td>\n",
       "      <td>0.00</td>\n",
       "      <td>0.00000</td>\n",
       "    </tr>\n",
       "    <tr>\n",
       "      <th>1</th>\n",
       "      <td>2423.477521</td>\n",
       "      <td>2421.699101</td>\n",
       "      <td>-408.980361</td>\n",
       "      <td>-408.980361</td>\n",
       "      <td>0.01</td>\n",
       "      <td>0.00000</td>\n",
       "    </tr>\n",
       "    <tr>\n",
       "      <th>2</th>\n",
       "      <td>2423.477521</td>\n",
       "      <td>2421.699101</td>\n",
       "      <td>-408.980361</td>\n",
       "      <td>-408.980361</td>\n",
       "      <td>0.02</td>\n",
       "      <td>0.00000</td>\n",
       "    </tr>\n",
       "    <tr>\n",
       "      <th>3</th>\n",
       "      <td>2423.477521</td>\n",
       "      <td>2421.699101</td>\n",
       "      <td>-408.980361</td>\n",
       "      <td>-408.980361</td>\n",
       "      <td>0.03</td>\n",
       "      <td>0.00000</td>\n",
       "    </tr>\n",
       "    <tr>\n",
       "      <th>4</th>\n",
       "      <td>2423.477521</td>\n",
       "      <td>2421.699101</td>\n",
       "      <td>-408.980361</td>\n",
       "      <td>-408.980361</td>\n",
       "      <td>0.04</td>\n",
       "      <td>0.00000</td>\n",
       "    </tr>\n",
       "    <tr>\n",
       "      <th>...</th>\n",
       "      <td>...</td>\n",
       "      <td>...</td>\n",
       "      <td>...</td>\n",
       "      <td>...</td>\n",
       "      <td>...</td>\n",
       "      <td>...</td>\n",
       "    </tr>\n",
       "    <tr>\n",
       "      <th>1265</th>\n",
       "      <td>-408.980361</td>\n",
       "      <td>-408.980361</td>\n",
       "      <td>-408.980361</td>\n",
       "      <td>-408.980361</td>\n",
       "      <td>12.65</td>\n",
       "      <td>1.95424</td>\n",
       "    </tr>\n",
       "    <tr>\n",
       "      <th>1266</th>\n",
       "      <td>-408.980361</td>\n",
       "      <td>-408.980361</td>\n",
       "      <td>-408.980361</td>\n",
       "      <td>-408.980361</td>\n",
       "      <td>12.66</td>\n",
       "      <td>1.95828</td>\n",
       "    </tr>\n",
       "    <tr>\n",
       "      <th>1267</th>\n",
       "      <td>-408.980361</td>\n",
       "      <td>-408.980361</td>\n",
       "      <td>-408.980361</td>\n",
       "      <td>-408.980361</td>\n",
       "      <td>12.67</td>\n",
       "      <td>1.96232</td>\n",
       "    </tr>\n",
       "    <tr>\n",
       "      <th>1268</th>\n",
       "      <td>-408.980361</td>\n",
       "      <td>-408.980361</td>\n",
       "      <td>-408.980361</td>\n",
       "      <td>-408.980361</td>\n",
       "      <td>12.68</td>\n",
       "      <td>1.96640</td>\n",
       "    </tr>\n",
       "    <tr>\n",
       "      <th>1269</th>\n",
       "      <td>-408.980361</td>\n",
       "      <td>-408.980361</td>\n",
       "      <td>-408.980361</td>\n",
       "      <td>-408.980361</td>\n",
       "      <td>12.69</td>\n",
       "      <td>1.97050</td>\n",
       "    </tr>\n",
       "  </tbody>\n",
       "</table>\n",
       "<p>1270 rows × 6 columns</p>\n",
       "</div>"
      ],
      "text/plain": [
       "      resistor_temp  yaskawa_temp   fore_temp    aft_temp   time  carriage_pos\n",
       "0       2423.477521   2421.699101 -408.980361 -408.980361   0.00       0.00000\n",
       "1       2423.477521   2421.699101 -408.980361 -408.980361   0.01       0.00000\n",
       "2       2423.477521   2421.699101 -408.980361 -408.980361   0.02       0.00000\n",
       "3       2423.477521   2421.699101 -408.980361 -408.980361   0.03       0.00000\n",
       "4       2423.477521   2421.699101 -408.980361 -408.980361   0.04       0.00000\n",
       "...             ...           ...         ...         ...    ...           ...\n",
       "1265    -408.980361   -408.980361 -408.980361 -408.980361  12.65       1.95424\n",
       "1266    -408.980361   -408.980361 -408.980361 -408.980361  12.66       1.95828\n",
       "1267    -408.980361   -408.980361 -408.980361 -408.980361  12.67       1.96232\n",
       "1268    -408.980361   -408.980361 -408.980361 -408.980361  12.68       1.96640\n",
       "1269    -408.980361   -408.980361 -408.980361 -408.980361  12.69       1.97050\n",
       "\n",
       "[1270 rows x 6 columns]"
      ]
     },
     "execution_count": 5,
     "metadata": {},
     "output_type": "execute_result"
    }
   ],
   "source": [
    "import pandas as pd\n",
    "\n",
    "pd.DataFrame(tow.daqthread.data)"
   ]
  },
  {
   "cell_type": "code",
   "execution_count": null,
   "metadata": {},
   "outputs": [],
   "source": [
    "tow.daqthread.metadata"
   ]
  },
  {
   "cell_type": "code",
   "execution_count": null,
   "metadata": {},
   "outputs": [],
   "source": [
    "import pandas as pd\n",
    "\n",
    "pd.DataFrame(tow.acsdaqthread.data).turbine_pos.plot()"
   ]
  }
 ],
 "metadata": {
  "kernelspec": {
   "display_name": "Python 3",
   "language": "python",
   "name": "python3"
  },
  "language_info": {
   "codemirror_mode": {
    "name": "ipython",
    "version": 3
   },
   "file_extension": ".py",
   "mimetype": "text/x-python",
   "name": "python",
   "nbconvert_exporter": "python",
   "pygments_lexer": "ipython3",
   "version": "3.12.3"
  }
 },
 "nbformat": 4,
 "nbformat_minor": 2
}
